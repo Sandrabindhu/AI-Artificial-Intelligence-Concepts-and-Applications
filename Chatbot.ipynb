{
  "nbformat": 4,
  "nbformat_minor": 0,
  "metadata": {
    "colab": {
      "provenance": [],
      "authorship_tag": "ABX9TyP/6RlY5xqQb7gSMvpVBVyc",
      "include_colab_link": true
    },
    "kernelspec": {
      "name": "python3",
      "display_name": "Python 3"
    },
    "language_info": {
      "name": "python"
    }
  },
  "cells": [
    {
      "cell_type": "markdown",
      "metadata": {
        "id": "view-in-github",
        "colab_type": "text"
      },
      "source": [
        "<a href=\"https://colab.research.google.com/github/Sandrabindhu/AI-Artificial-Intelligence-Concepts-and-Applications/blob/main/Chatbot.ipynb\" target=\"_parent\"><img src=\"https://colab.research.google.com/assets/colab-badge.svg\" alt=\"Open In Colab\"/></a>"
      ]
    },
    {
      "cell_type": "code",
      "execution_count": 4,
      "metadata": {
        "colab": {
          "base_uri": "https://localhost:8080/"
        },
        "id": "i2vTQo-xd_QF",
        "outputId": "a2dc3758-b8a6-4df2-bfdd-c263d433032c"
      },
      "outputs": [
        {
          "output_type": "stream",
          "name": "stdout",
          "text": [
            "Hello! I'm a simple chatbot. You can type 'hello', 'how are you', 'how was the day', 'what is your current mood?', 'how are you', 'what is your name', or 'bye'.\n",
            "You: hello\n",
            "Chatbot: Hi there!\n",
            "You: how are you\n",
            "Chatbot: I'm doing well, thank you for asking!\n",
            "You: how was the day\n",
            "Chatbot: Yah! good only.\n",
            "You: what is your current mood?\n",
            "Chatbot: I'm very happy for you conversation.\n",
            "You: how are u\n",
            "Chatbot: I don't understand that. Try asking something else.\n",
            "You: how are you\n",
            "Chatbot: I'm doing well, thank you for asking!\n",
            "You: what is your name\n",
            "Chatbot: I'm your friendly chatbot!\n",
            "You: mdkvdkvnkd\n",
            "Chatbot: I don't understand that. Try asking something else.\n",
            "You: bye\n",
            "Chatbot: Goodbye! Have a nice day.\n"
          ]
        }
      ],
      "source": [
        "def simple_chatbot():\n",
        "    print(\"Hello! I'm a simple chatbot. You can type 'hello', 'how are you', 'how was the day', 'what is your current mood?', 'how are you', 'what is your name', or 'bye'.\")\n",
        "\n",
        "    chatting = True\n",
        "\n",
        "    while chatting:\n",
        "        user_input = input(\"You: \").lower()\n",
        "\n",
        "        if \"hello\" in user_input:\n",
        "            print(\"Chatbot: Hi there!\")\n",
        "        elif \"hi\" in user_input:\n",
        "            print(\"Chatbot: Hi! Do you want to know anything?\")\n",
        "        elif \"how was the day\" in user_input:\n",
        "            print(\"Chatbot: Yah! good only.\")\n",
        "        elif \"what is your current mood?\" in user_input:\n",
        "            print(\"Chatbot: I'm very happy for you conversation.\")\n",
        "        elif \"how are you\" in user_input:\n",
        "            print(\"Chatbot: I'm doing well, thank you for asking!\")\n",
        "        elif \"what is your name\" in user_input:\n",
        "            print(\"Chatbot: I'm your friendly chatbot!\")\n",
        "        elif \"bye\" in user_input:\n",
        "            print(\"Chatbot: Goodbye! Have a nice day.\")\n",
        "            chatting = False\n",
        "        else:\n",
        "            print(\"Chatbot: I don't understand that. Try asking something else.\")\n",
        "\n",
        "simple_chatbot()\n"
      ]
    },
    {
      "cell_type": "code",
      "source": [
        "# Using boolean flag and give a link to open in browser:\n",
        "\n",
        "import webbrowser\n",
        "\n",
        "def simple_chatbot():\n",
        "    webbrowser.open(\"file:///C:/Users/SANDRA%20B/Documents/MCA%20Alliance%20cllg/Sem%203/Web%20Technologies/Class%20work/C1-%205-8/index.html\")\n",
        "\n",
        "    print(\"Hello! I'm a simple chatbot. type 'bye' to exit.\")\n",
        "\n",
        "    chatting = True\n",
        "\n",
        "    while chatting:\n",
        "        user_input = input(\"You: \").lower()\n",
        "\n",
        "        if \"hello\" in user_input:\n",
        "            print(\"Chatbot: Hi there!\")\n",
        "        elif \"how are you\" in user_input:\n",
        "            print(\"Chatbot: I'm doing well, thank you for asking!\")\n",
        "        elif \"what is your name\" in user_input:\n",
        "            print(\"Chatbot: I'm your friendly chatbot!\")\n",
        "        elif \"bye\" in user_input:\n",
        "            print(\"Chatbot: Goodbye! Have a nice day.\")\n",
        "            chatting = False\n",
        "        else:\n",
        "            print(\"Chatbot: I don't understand that.\")\n",
        "\n",
        "simple_chatbot()\n"
      ],
      "metadata": {
        "colab": {
          "base_uri": "https://localhost:8080/"
        },
        "id": "JAV3LQp0eYl8",
        "outputId": "40a7db8c-8f03-44c8-bcd9-5094ded0c166"
      },
      "execution_count": 6,
      "outputs": [
        {
          "output_type": "stream",
          "name": "stdout",
          "text": [
            "Hello! I'm a simple chatbot. type 'bye' to exit.\n",
            "You: hello\n",
            "Chatbot: Hi there!\n",
            "You: bye\n",
            "Chatbot: Goodbye! Have a nice day.\n"
          ]
        }
      ]
    }
  ]
}