{
  "nbformat": 4,
  "nbformat_minor": 0,
  "metadata": {
    "colab": {
      "provenance": [],
      "authorship_tag": "ABX9TyPIZb/NrsLxBMheMeBO8gZ0",
      "include_colab_link": true
    },
    "kernelspec": {
      "name": "python3",
      "display_name": "Python 3"
    },
    "language_info": {
      "name": "python"
    }
  },
  "cells": [
    {
      "cell_type": "markdown",
      "metadata": {
        "id": "view-in-github",
        "colab_type": "text"
      },
      "source": [
        "<a href=\"https://colab.research.google.com/github/Sandrabindhu/AI-Artificial-Intelligence-Concepts-and-Applications/blob/main/Hand_Cricket_AI.ipynb\" target=\"_parent\"><img src=\"https://colab.research.google.com/assets/colab-badge.svg\" alt=\"Open In Colab\"/></a>"
      ]
    },
    {
      "cell_type": "code",
      "execution_count": null,
      "metadata": {
        "colab": {
          "base_uri": "https://localhost:8080/"
        },
        "id": "jujcd5NdMNrs",
        "outputId": "69b7c82a-294c-41da-a073-17afd768b48a"
      },
      "outputs": [
        {
          "output_type": "stream",
          "name": "stdout",
          "text": [
            "Welcome to Hand Cricket!\n",
            "You will bat first!\n",
            "Enter your run (1-6): 4\n",
            "AI bowled: 3\n",
            "Your score: 4\n",
            "Enter your run (1-6): 5\n",
            "AI bowled: 1\n",
            "Your score: 9\n",
            "Enter your run (1-6): 3\n",
            "AI bowled: 1\n",
            "Your score: 12\n",
            "Enter your run (1-6): 3\n",
            "AI bowled: 4\n",
            "Your score: 15\n",
            "Enter your run (1-6): 5\n",
            "AI bowled: 3\n",
            "Your score: 20\n",
            "Enter your run (1-6): 6\n",
            "AI bowled: 3\n",
            "Your score: 26\n",
            "Enter your run (1-6): 1\n",
            "AI bowled: 1\n",
            "You're OUT!\n",
            "Final score: 26\n"
          ]
        }
      ],
      "source": [
        "import random\n",
        "\n",
        "print(\"Welcome to Hand Cricket!\")\n",
        "\n",
        "players = [\"You\", \"AI\"]\n",
        "batting = random.choice(players)\n",
        "bowling = \"AI\" if batting == \"You\" else \"You\"\n",
        "print(f\"{batting} will bat first!\")\n",
        "\n",
        "score = 0\n",
        "\n",
        "if batting == \"You\":\n",
        "    while True:\n",
        "        player = int(input(\"Enter your run (1-6): \"))\n",
        "        ai = random.randint(1, 6)\n",
        "        print(\"AI bowled:\", ai)\n",
        "        if player == ai:\n",
        "            print(\"You're OUT!\")\n",
        "            break\n",
        "        else:\n",
        "            score += player\n",
        "            print(\"Your score:\", score)\n",
        "else:\n",
        "    while True:\n",
        "        ai = random.randint(1, 6)\n",
        "        player = int(input(\"Enter your bowl (1-6): \"))\n",
        "        print(\"AI batted:\", ai)\n",
        "        if player == ai:\n",
        "            print(\"AI is OUT!\")\n",
        "            break\n",
        "        else:\n",
        "            score += ai\n",
        "            print(\"AI score:\", score)\n",
        "\n",
        "print(\"Final score:\", score)\n"
      ]
    }
  ]
}
