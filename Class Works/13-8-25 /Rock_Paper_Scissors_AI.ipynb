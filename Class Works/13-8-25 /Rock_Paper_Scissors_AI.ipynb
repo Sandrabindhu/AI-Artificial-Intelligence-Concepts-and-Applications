{
  "nbformat": 4,
  "nbformat_minor": 0,
  "metadata": {
    "colab": {
      "provenance": [],
      "authorship_tag": "ABX9TyNj3Ewj7C8K8rwfQNPb9hDD",
      "include_colab_link": true
    },
    "kernelspec": {
      "name": "python3",
      "display_name": "Python 3"
    },
    "language_info": {
      "name": "python"
    }
  },
  "cells": [
    {
      "cell_type": "markdown",
      "metadata": {
        "id": "view-in-github",
        "colab_type": "text"
      },
      "source": [
        "<a href=\"https://colab.research.google.com/github/Sandrabindhu/AI-Artificial-Intelligence-Concepts-and-Applications/blob/main/Rock_Paper_Scissors_AI.ipynb\" target=\"_parent\"><img src=\"https://colab.research.google.com/assets/colab-badge.svg\" alt=\"Open In Colab\"/></a>"
      ]
    },
    {
      "cell_type": "code",
      "execution_count": null,
      "metadata": {
        "id": "IMLCZQdgvun1",
        "colab": {
          "base_uri": "https://localhost:8080/"
        },
        "outputId": "59a5e708-b4e7-416e-d8e5-ebd1baae0d08"
      },
      "outputs": [
        {
          "name": "stdout",
          "output_type": "stream",
          "text": [
            "Enter rock, paper or scissors(or 'exit'): exit\n"
          ]
        }
      ],
      "source": [
        "import random\n",
        "\n",
        "choices = ['rock', 'paper', 'scissors']\n",
        "while True:\n",
        "  user = input(\"Enter rock, paper or scissors(or 'exit'): \").lower()\n",
        "  if user == \"exit\":\n",
        "    break\n",
        "  if user not in choices:\n",
        "    print(\"Invalid choice. Try again!\")\n",
        "    continue\n",
        "  ai = random.choice(choices)\n",
        "  print(f\"AI chose: {ai}\")\n",
        "  if user == ai:\n",
        "    print(\"It's a tie!\")\n",
        "  elif (user == \"rock\" and ai == \"scissors\") or (user == \"paper\" and ai == \"rock\") or (user == \"scissors\" and ai == \"paper\"):\n",
        "    print(\"You win!\")\n",
        "  else:\n",
        "    print(\"You lose!\")\n"
      ]
    },
    {
      "cell_type": "code",
      "source": [
        "def RPS():\n",
        "  choices = ['rock', 'paper', 'scissors']\n",
        "  while True:\n",
        "    print(\"\\nType 'exit' to stop playing.\")\n",
        "    p1 = input(\"Person 1 - Enter rock, paper or scissors: \").lower()\n",
        "    if p1 == \"exit\":\n",
        "        break\n",
        "    p2 = input(\"Person 2 - Enter rock, paper or scissors: \").lower()\n",
        "    if p2 == \"exit\":\n",
        "        break\n",
        "\n",
        "    if p1 not in choices or p2 not in choices:\n",
        "        print(\"Invalid input. Try again!\")\n",
        "        continue\n",
        "\n",
        "    print(f\"Person 1 chose: {p1}\")\n",
        "    print(f\"Person 2 chose: {p2}\")\n",
        "\n",
        "    if p1 == p2:\n",
        "        print(\"It's a tie!\")\n",
        "    elif (p1 == \"rock\" and p2 == \"scissors\") or (p1 == \"paper\" and p2 == \"rock\") or (p1 == \"scissors\" and p2 == \"paper\"):\n",
        "        print(\"Person 1 wins!\")\n",
        "    else:\n",
        "        print(\"Person 2 wins!\")\n",
        "RPS()"
      ],
      "metadata": {
        "colab": {
          "base_uri": "https://localhost:8080/"
        },
        "id": "ad36YpeM2iEM",
        "outputId": "fe3744d4-3848-47b2-94dd-48dfe8b484bf"
      },
      "execution_count": null,
      "outputs": [
        {
          "name": "stdout",
          "output_type": "stream",
          "text": [
            "\n",
            "Type 'exit' to stop playing.\n",
            "Person 1 - Enter rock, paper or scissors: rock\n",
            "Person 2 - Enter rock, paper or scissors: scissors\n",
            "Person 1 chose: rock\n",
            "Person 2 chose: scissors\n",
            "Person 1 wins!\n",
            "\n",
            "Type 'exit' to stop playing.\n",
            "Person 1 - Enter rock, paper or scissors: scissors\n",
            "Person 2 - Enter rock, paper or scissors: rock\n",
            "Person 1 chose: scissors\n",
            "Person 2 chose: rock\n",
            "Person 2 wins!\n",
            "\n",
            "Type 'exit' to stop playing.\n",
            "Person 1 - Enter rock, paper or scissors: paper\n",
            "Person 2 - Enter rock, paper or scissors: scissors\n",
            "Person 1 chose: paper\n",
            "Person 2 chose: scissors\n",
            "Person 2 wins!\n",
            "\n",
            "Type 'exit' to stop playing.\n",
            "Person 1 - Enter rock, paper or scissors: scissors\n",
            "Person 2 - Enter rock, paper or scissors: paper\n",
            "Person 1 chose: scissors\n",
            "Person 2 chose: paper\n",
            "Person 1 wins!\n",
            "\n",
            "Type 'exit' to stop playing.\n",
            "Person 1 - Enter rock, paper or scissors: paper\n",
            "Person 2 - Enter rock, paper or scissors: paper\n",
            "Person 1 chose: paper\n",
            "Person 2 chose: paper\n",
            "It's a tie!\n",
            "\n",
            "Type 'exit' to stop playing.\n",
            "Person 1 - Enter rock, paper or scissors: exit\n"
          ]
        }
      ]
    },
    {
      "cell_type": "code",
      "source": [],
      "metadata": {
        "id": "tpk32xyqMFbD"
      },
      "execution_count": null,
      "outputs": []
    }
  ]
}
