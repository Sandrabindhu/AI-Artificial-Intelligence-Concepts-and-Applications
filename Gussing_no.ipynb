{
  "nbformat": 4,
  "nbformat_minor": 0,
  "metadata": {
    "colab": {
      "provenance": [],
      "authorship_tag": "ABX9TyPThb14GQa9UCYp5qzVGia3",
      "include_colab_link": true
    },
    "kernelspec": {
      "name": "python3",
      "display_name": "Python 3"
    },
    "language_info": {
      "name": "python"
    }
  },
  "cells": [
    {
      "cell_type": "markdown",
      "metadata": {
        "id": "view-in-github",
        "colab_type": "text"
      },
      "source": [
        "<a href=\"https://colab.research.google.com/github/Sandrabindhu/AI-Artificial-Intelligence-Concepts-and-Applications/blob/main/Gussing_no.ipynb\" target=\"_parent\"><img src=\"https://colab.research.google.com/assets/colab-badge.svg\" alt=\"Open In Colab\"/></a>"
      ]
    },
    {
      "cell_type": "code",
      "execution_count": null,
      "metadata": {
        "colab": {
          "base_uri": "https://localhost:8080/"
        },
        "id": "CpF0fKFNFU6e",
        "outputId": "d06ad51f-4d99-4845-e7d2-7cfbcf52c840"
      },
      "outputs": [
        {
          "output_type": "stream",
          "name": "stdout",
          "text": [
            "Think of a number between 1 and 100, and I will try to guess it!\n",
            "Press Enter when you're ready...l\n",
            "AI: Is your number 50?\n",
            "Enter 'h' if too high, 'l' if too low, or 'c' if correc: l\n",
            "AI: Is your number 75?\n",
            "Enter 'h' if too high, 'l' if too low, or 'c' if correc: h\n",
            "AI: Is your number 62?\n",
            "Enter 'h' if too high, 'l' if too low, or 'c' if correc: h\n",
            "AI: Is your number 56?\n",
            "Enter 'h' if too high, 'l' if too low, or 'c' if correc: h\n",
            "AI: Is your number 53?\n",
            "Enter 'h' if too high, 'l' if too low, or 'c' if correc: h\n",
            "AI: Is your number 51?\n",
            "Enter 'h' if too high, 'l' if too low, or 'c' if correc: l\n",
            "AI: Is your number 52?\n",
            "Enter 'h' if too high, 'l' if too low, or 'c' if correc: c\n",
            "Yay! I guessed your number in {attempts}attempts.\n"
          ]
        }
      ],
      "source": [
        "def ai_guess_number():\n",
        "    print(\"Think of a number between 1 and 100, and I will try to guess it!\")\n",
        "    input(\"Press Enter when you're ready...\")\n",
        "\n",
        "    low = 1\n",
        "    high = 100\n",
        "    attempts = 0\n",
        "    while low <= high:\n",
        "        guess = (low + high) // 2\n",
        "        attempts += 1\n",
        "        print(f\"AI: Is your number {guess.2f}?\")\n",
        "        response = input(\"Enter 'h' if too high, 'l' if too low, or 'c' if correc: \").lower()\n",
        "\n",
        "        if response == 'h':\n",
        "            high = guess - 1\n",
        "        elif response == 'l':\n",
        "            low = guess + 1\n",
        "        elif response == 'c':\n",
        "            print(\"Yay! I guessed your number in {attempts}attempts.\")\n",
        "            break\n",
        "        else:\n",
        "            print(\"Please enter a valid response: 'h', 'l', or 'c'.\")\n",
        "\n",
        "ai_guess_number()\n"
      ]
    }
  ]
}